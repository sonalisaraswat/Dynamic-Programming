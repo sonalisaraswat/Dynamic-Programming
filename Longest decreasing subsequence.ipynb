{
 "cells": [
  {
   "cell_type": "code",
   "execution_count": 2,
   "metadata": {},
   "outputs": [],
   "source": [
    "def Lds(arr, n):\n",
    "    lds = [1]*n\n",
    "    max = 0\n",
    "    for i in range(n):\n",
    "        for j in range(i):\n",
    "            if(arr[i]<arr[j] and lds[i]<lds[j]+1):\n",
    "                lds[i] = lds[j]+1\n",
    "    for i in range(n):\n",
    "        if(max < lds[i]):\n",
    "            max = lds[i]\n",
    "    return max"
   ]
  },
  {
   "cell_type": "code",
   "execution_count": null,
   "metadata": {},
   "outputs": [],
   "source": [
    "print(Lds([15,2,14,38,63,55,46,65,85],))"
   ]
  }
 ],
 "metadata": {
  "kernelspec": {
   "display_name": "Python 3",
   "language": "python",
   "name": "python3"
  },
  "language_info": {
   "codemirror_mode": {
    "name": "ipython",
    "version": 3
   },
   "file_extension": ".py",
   "mimetype": "text/x-python",
   "name": "python",
   "nbconvert_exporter": "python",
   "pygments_lexer": "ipython3",
   "version": "3.8.2"
  }
 },
 "nbformat": 4,
 "nbformat_minor": 4
}
